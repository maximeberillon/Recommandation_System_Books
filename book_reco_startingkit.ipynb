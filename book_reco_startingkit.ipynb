{
 "cells": [
  {
   "cell_type": "markdown",
   "metadata": {
    "id": "0FlAXdTYP_NK"
   },
   "source": [
    "<img src='https://learnprimary.com.au/wp-content/uploads/2018/08/Girl-Choose-Book.jpg'>\n"
   ]
  },
  {
   "cell_type": "markdown",
   "metadata": {
    "id": "t-smWdcG6f2v"
   },
   "source": [
    "<h1>Mimicking Amazon's Recommendation System for books<h1>\n",
    "\n"
   ]
  },
  {
   "cell_type": "markdown",
   "metadata": {
    "id": "fv6Is8Sv7BNm"
   },
   "source": [
    "*Youssef Brachmi, Théo Dullin, Omar El Mellouki, Lokmen Eltarr, Maxime Berillon*"
   ]
  },
  {
   "cell_type": "markdown",
   "metadata": {
    "id": "Nid5eQRTEBSo"
   },
   "source": [
    "# Introduction\n"
   ]
  },
  {
   "cell_type": "markdown",
   "metadata": {
    "id": "SZ8HSjV68nI3"
   },
   "source": [
    "## Motivation\n",
    "\n",
    "With the advent of technology, we witnessed a major outburst in social media contents and streaming services. The average person spends 3 hours and 15 minutes a day on its phone, more intensive users such as teenagers can spend up to 5 hours each day on their phones. One of the main collateral damages of all this content consumption is reading books. \n",
    "In 2018, a European survey showed that the average time spent reading books per day was 12 minutes in Finland and Poland, 7 minutes in Germany and Luxembourg, but only 2 min in France, the last in Europe.\n",
    "\n",
    "Many reasons can explain the lack of reading in the general population, but the main one is because reading a book is a long commitment that requires several hours, distributed in several successive days in order not to forget the context. This can prove to be very challenging for a majority of people and be a deterrent to start any book. Also, we don’t all have the time to go to a library and spend an hour reading back covers and choosing the right books.\n",
    "\n",
    "To cope with this, one has to choose wisely and only commit when sure that a book is interesting and deserves the time. Unfortunately, we don’t all have a relative or a friend that has read all books and advises us according to our preferences, but another way is using the same technology that distracts us from reading books, to encourage us reading books. \n",
    "\n",
    "Amazon, one of the biggest technology companies, started as a bookstore, an online one. From the comfort of your own home, you can order a book and receive it 2 days later in your mail. Another advantage of this online bookstore, is that users, readers in this case, can put reviews and notations for each book, with short comments to describe what they liked and disliked. This helps with book recommendations for each user, given his history of purchases and the various reviews for all books, a recommendation engine can produce a list of possible matches to what he would want next, thus having only a shortlist to choose from and spend more time in reading."
   ]
  },
  {
   "cell_type": "markdown",
   "metadata": {
    "id": "B_XYg78lwdoM"
   },
   "source": [
    "## Scientific research \n",
    "\n",
    "In their article *Beyond Books: The Extended Academic Benefits of Library Use for First-Year College Students*  Soria et al. described how the use of library and most importantly book can have a positive impact on the academic outcomes of college students. Therefore it is crucial to advise them well.\n",
    "\n",
    "In another study called *A book reading intervention with preschool children who have limited vocabularies: the benefits of regular reading and dialogic reading*, Hargrave et al. focused on a younger generation and conclude in a similar way. They studied the influence of book reading to children who had poor vocabulary skills. These book reading interventions were very conclusive : the children exposes to these sessions rapidly gained vocabulary. This further stresses our point that book are vital for personal developement."
   ]
  },
  {
   "cell_type": "markdown",
   "metadata": {},
   "source": [
    "## Netflix prize"
   ]
  },
  {
   "cell_type": "markdown",
   "metadata": {
    "id": "P5XxC1WypSJ0"
   },
   "source": [
    "<center><img src='https://media.wired.com/photos/5933082958b0d64bb35d419f/191:100/w_1280,c_limit/netflixprize.jpg'></center>\n",
    "\n",
    "In 2006 Netflix announced the creation of a special competition. The idea was simple : they provided a training dataset with user and reviews of movie and expected the participants to come up with a recommandation algorithm for their movies. The benchmark was one of their previous algorithm *Cinematch*. The leaderboard was based on the RMSE of each algorithm. In 2009, the winning team eventually won 1 million dollars !\n",
    "\n",
    "The idea here is quite similar but with books. And the prize is not 1 million dollars but 5 ECTS!"
   ]
  },
  {
   "cell_type": "markdown",
   "metadata": {
    "id": "OmF7_CboOFJJ"
   },
   "source": [
    "# The challenge"
   ]
  },
  {
   "cell_type": "markdown",
   "metadata": {
    "id": "V-eD2iZecP3L"
   },
   "source": [
    "## Problem Desciption"
   ]
  },
  {
   "cell_type": "markdown",
   "metadata": {
    "id": "1hi85V9icPwv"
   },
   "source": [
    "The challenge that is proposed here is to build a book recommander system. Based on information about a list of books and the reviews of some users, the aim is to predict a list of book that a user is the most likely to like i,e, that he would review with a high rating.\n",
    "<br>\n",
    "We suppose that we have a set $U$ of users and a set $B$ of books available to recommand. If the user $u$ has rated the book $i$, then we denote $r_{ui}$ the rating given by $u$ to the book $i$. Of course, in the real life, all users does not review all books because they didn't read all books and because they don't review all the books that they read. <br> If we define $\\Omega=\\{(u,i) \\in U \\times B \\ \\text{such that u reviewed i}\\}$, we are looking to predict all $r_{ui}$ for $(u,i) \\notin \\Omega$. These prediction are called $(\\widehat{r}_{ui})_{(u,i)\\notin \\Omega}$.<br>\n",
    "\n",
    "*Important remark :* The rating of books on Amazon can only be 1,2,3,4 or 5. Thus, this looks like a classification problem. However, as we are interested into giving a list of most relevant books to a user. If a model gives the rating of 5 to a big list of books, it will be hard to discriminate books among this list and to recommand a small amount of books. Then, we are increasing the rating space by relaxing the discrete constrainte. The challenge proposed is then a regression problem that aims at predicting the rating in a continious space."
   ]
  },
  {
   "cell_type": "markdown",
   "metadata": {
    "id": "t1cyskut8rbN"
   },
   "source": [
    "## Description of the dataset\n",
    "\n",
    "The dataset used comes from the Amazon review data. It is a data set released in 2018 countaining reviews and metadata of products from May 1996 to Oct 2018. It is available here : [Amazon review data (2018)](https://nijianmo.github.io/amazon/index.html?fbclid=IwAR22w2ilC3jHIzAp_hnMsMLl8fiB6tpqJGxHWYqt5S8b5CCPqXqkgdH2lMQ#sample-metadata)\n",
    "The first version of the dataset were released in 2014, countained only reviews composed of ratings, text and helpfulness of votes. It is available here [Amazon review data (2014)](http://jmcauley.ucsd.edu/data/amazon/index_2014.html) The first dataset had 142.8 million reviews up to July 2014. The updated version used in this challenge adds more reviews (233.1 million reviews up to October 2018). It also adds metadata about products such as descriptions, category information, price, brand, and image features.\n",
    "<br>\n",
    "<br>\n",
    "The dataset is separated into categories of products sold on Amazon. The category that interests us is \"books\". It is composed of 51 311 621 reviews. \n",
    "<br>\n",
    "The number of books review is very big and can induce a lot of calculation time. Moreover, a lot of products have only been reviewed a small amount of time and a lot of users have only given a small amount of reviews. This implies that the behavior of people that gave a small amount of review will be difficult to catch. Furthermore, it will be hard to recommand books that have a small amount of review to other people.\n",
    "For all these reason, the number of data for this challenge has been reduced. We extract from the data the k-core, which means that each of the remaining users and items have k reviews each. We choose the integer k qualitatively to reduce significantly the size of the data while keeping a good amount of it. The k selected is : **10** which lead to a dataset of **4586** reviews. This leaves us with 320 user and 801 products.\n",
    "<br>\n",
    "<br>\n",
    "In the metadata, only the metadata associated to the selected reviews have been kept. All descriptions, category information, price and brand have been kept. For exmaple the image features have been dropped from the original dataset because the possibility to use it would complexify a lot the challenge and we would like it to be out of the scope of this challenge.\n",
    "<br>\n",
    "<br>\n",
    "The original data is on JSON format. After the preprocessing of the k-core, the data has been exported to the CSV format and correspond to the data available for this challenge.\n",
    "\n",
    "The data contains the following columns:\n",
    "\n",
    "- reviewerID — ID of the reviewer, e.g. A2SUAM1J3GNN3B\n",
    "- productID — ID of the product, e.g. 0000013714\n",
    "- categories — list of categories the product belongs to\n",
    "- description — description of the product\n",
    "- title — name of the product\n",
    "- rank — sales rank information\n",
    "- brand — brand name\n",
    "- price — price in US dollars (at time of crawl)\n"
   ]
  },
  {
   "cell_type": "markdown",
   "metadata": {
    "id": "dlcQvKNm8uku"
   },
   "source": [
    "## The cold-start problem\n",
    "\n",
    "The objective of this challenge is to accurately predict the target variable *ratingScore* based on the variables describing the previous purchases and reviews given by the user. The purpose of the study is to recommend relevant products that a user whose history of purchase is known might be interested in buying. We therefore consider that the previous products the user has bought will give an indication on those he would buy. \n",
    "\n",
    "However when a new user registers to the platform we have no prior information on his buying habits, and therefore cannot proceed to any inference since we cannot base it on any history. This issue, which is called the *Cold start for a new user*, is usually dealt with by asking the new user to provide some preferences to build an initial user profil, which will later be refined as the user uses the platform. However, a compromise must be made between the registration process and the amount of initial data required to build a profil, since the user might abandon the registration if its too long, and not enough data could lead to poor quality of recommendation.\n",
    "\n",
    "When a new product is added to the data base however it is possible to recommend it to known users based on its proximity to know products. We will see how in the second model approached here."
   ]
  },
  {
   "cell_type": "markdown",
   "metadata": {
    "id": "malIzMK58ynS"
   },
   "source": [
    "# Metrics\n",
    "\n",
    "In order to measure the accuracy of our recommendations, we need a measure. The function cost we have to minimize should be a distance between the user's reviews and our predictions for this reviews.\n",
    "\n",
    "Several metrics can be used to evaluate the performance of the book recommander. Here are a few."
   ]
  },
  {
   "cell_type": "markdown",
   "metadata": {
    "id": "QyFlcE9FogZS"
   },
   "source": [
    "## MAE\n",
    "\n",
    "The *Mean Absolute Error* (MAE) has the same scale of the reviews themselves (from 1 to 5). If it equals 0.7 it means that on average the algorithm 0.7 point off.\n",
    "\n",
    "$$\n",
    "\\text{MAE} =\n",
    "\\frac{1}{n}\n",
    "\\sum_{(u,i) \\notin \\Omega}\n",
    "|\\hat{r}_{u,i}-r_{u,i}|\n",
    "$$\n",
    "\n",
    "The drawback of the MAE is that we cannot use it to compare results between datasets if the scale are different. That is shy we introduce the *Normalized Mean Absolute Error* (NMAE) :\n",
    "\n",
    "$$\n",
    "\\text{NMAE} =\n",
    "\\frac{1}{n(r_{high}-r_{low})}\n",
    "\\sum_{(u,i) \\notin \\Omega}\n",
    "|\\hat{r}_{u,i}-r_{u,i}|\n",
    "$$\n",
    "\n",
    "The MAE may be not enough for this problem. Generaly it tends to give more importance to large deviation compared to small deviation. Since NMAE is more balanced we want to use it."
   ]
  },
  {
   "cell_type": "code",
   "execution_count": 1,
   "metadata": {
    "ExecuteTime": {
     "end_time": "2021-01-17T22:31:37.973150Z",
     "start_time": "2021-01-17T22:31:37.926023Z"
    },
    "id": "RAUBsPk7o43Y"
   },
   "outputs": [],
   "source": [
    "def mae(a,b):\n",
    "    return np.mean(np.abs(a-b))"
   ]
  },
  {
   "cell_type": "markdown",
   "metadata": {
    "id": "vRCD5BSAompf"
   },
   "source": [
    "## MSE\n",
    "\n",
    "The *Mean Squared Error* (MSE) is similar but tends to penalize more larger errors of the recommendation system. For example it will penalize more one failure of 2 points that eight repeted failures of 0.5 point.\n",
    "\n",
    "$$\n",
    "\\text{MSE} =\n",
    "\\frac{1}{n}\n",
    "\\sum_{(u,i) \\notin \\Omega}\n",
    "(\\hat{r}_{u,i}-r_{u,i})^2\n",
    "$$"
   ]
  },
  {
   "cell_type": "code",
   "execution_count": 2,
   "metadata": {
    "ExecuteTime": {
     "end_time": "2021-01-17T22:31:38.015366Z",
     "start_time": "2021-01-17T22:31:37.991089Z"
    },
    "id": "smobQ9z3o7B2"
   },
   "outputs": [],
   "source": [
    "def mse(a,b):\n",
    "    return np.mean((a-b)**2)"
   ]
  },
  {
   "cell_type": "markdown",
   "metadata": {
    "id": "dDEVnz2Tonqd"
   },
   "source": [
    "## RMSE\n",
    "Since we want to score how close are our predictions are to the ground truth, the first metric we will use is the root-mean-square error.\n",
    "\n",
    "The *Root Mean Squared Error* is the same as the MSE but with a square root. Like MAE it has the same units as the date. This measure of accuracy was chosen for the *Netflix Prize* and hence we will use it too to assess this challenge\n",
    "\n",
    "$$\n",
    "\\text{RMSE} =\n",
    "\\sqrt{\n",
    "\\frac{1}{n}\n",
    "\\sum_{(u,i) \\notin \\Omega}\n",
    "(\\hat{r}_{u,i}-r_{u,i})^2\n",
    "}\n",
    "$$"
   ]
  },
  {
   "cell_type": "code",
   "execution_count": 3,
   "metadata": {
    "ExecuteTime": {
     "end_time": "2021-01-17T22:31:38.031865Z",
     "start_time": "2021-01-17T22:31:38.023375Z"
    }
   },
   "outputs": [],
   "source": [
    "def rmse_f(a,b):\n",
    "    return np.sqrt(np.mean((a-b)**2))"
   ]
  },
  {
   "cell_type": "markdown",
   "metadata": {},
   "source": [
    "So the RMSE will be our first metric and NMAE will be the second and we will consider both."
   ]
  },
  {
   "cell_type": "markdown",
   "metadata": {
    "id": "acziaOhf82mT"
   },
   "source": [
    "\n",
    "# Data & imports"
   ]
  },
  {
   "cell_type": "markdown",
   "metadata": {
    "id": "o2ZysSGkNmi6"
   },
   "source": [
    "## Prerequisites\n",
    "\n",
    "- `numpy`\n",
    "- `pandas`\n",
    "- `scikit-learn`\n",
    "- `matplotlib`\n",
    "- `seaborn`\n",
    "- `ast`\n",
    "\n",
    "<br>\n",
    "You can install all requisite modules with pip install -r requirements.txt"
   ]
  },
  {
   "cell_type": "code",
   "execution_count": 4,
   "metadata": {
    "ExecuteTime": {
     "end_time": "2021-01-17T22:31:44.643230Z",
     "start_time": "2021-01-17T22:31:38.040943Z"
    },
    "id": "vPBbTJ-S0V92"
   },
   "outputs": [],
   "source": [
    "import pandas as pd\n",
    "import numpy as np\n",
    "import matplotlib.pyplot as plt\n",
    "import matplotlib.axes\n",
    "%matplotlib inline\n",
    "import seaborn as sns\n",
    "sns.set()"
   ]
  },
  {
   "cell_type": "markdown",
   "metadata": {
    "id": "D_IMwNnx26rS"
   },
   "source": [
    "## Import"
   ]
  },
  {
   "cell_type": "code",
   "execution_count": 5,
   "metadata": {
    "ExecuteTime": {
     "end_time": "2021-01-17T22:31:46.932296Z",
     "start_time": "2021-01-17T22:31:44.652230Z"
    },
    "colab": {
     "base_uri": "https://localhost:8080/",
     "height": 317
    },
    "id": "te0VSGTSOoBy",
    "outputId": "a700ab31-3f9e-4d00-adb4-93c87c63b2ee"
   },
   "outputs": [],
   "source": [
    "from problem import get_train_data, get_test_data\n",
    "X, y = get_train_data()\n",
    "y=y.flatten()"
   ]
  },
  {
   "cell_type": "markdown",
   "metadata": {
    "id": "vL_GtzkROhQ5"
   },
   "source": [
    "# Exploratory data analysis"
   ]
  },
  {
   "cell_type": "code",
   "execution_count": 6,
   "metadata": {
    "ExecuteTime": {
     "end_time": "2021-01-17T22:31:46.960467Z",
     "start_time": "2021-01-17T22:31:46.939615Z"
    }
   },
   "outputs": [],
   "source": [
    "data = X.copy()\n",
    "data['ratingScore'] = y"
   ]
  },
  {
   "cell_type": "code",
   "execution_count": 7,
   "metadata": {
    "ExecuteTime": {
     "end_time": "2021-01-17T22:31:47.029307Z",
     "start_time": "2021-01-17T22:31:46.974696Z"
    },
    "colab": {
     "base_uri": "https://localhost:8080/"
    },
    "id": "27sec6k40bB1",
    "outputId": "2d1317bc-72a9-46fb-8097-aeef556461a9"
   },
   "outputs": [
    {
     "name": "stdout",
     "output_type": "stream",
     "text": [
      "<class 'pandas.core.frame.DataFrame'>\n",
      "RangeIndex: 4586 entries, 0 to 4585\n",
      "Data columns (total 9 columns):\n",
      " #   Column       Non-Null Count  Dtype  \n",
      "---  ------       --------------  -----  \n",
      " 0   reviewerID   4586 non-null   object \n",
      " 1   productID    4586 non-null   object \n",
      " 2   category     4586 non-null   object \n",
      " 3   description  4586 non-null   object \n",
      " 4   title        4586 non-null   object \n",
      " 5   brand        4577 non-null   object \n",
      " 6   rank         4586 non-null   object \n",
      " 7   price        4250 non-null   object \n",
      " 8   ratingScore  4586 non-null   float64\n",
      "dtypes: float64(1), object(8)\n",
      "memory usage: 322.6+ KB\n"
     ]
    }
   ],
   "source": [
    "data.info()"
   ]
  },
  {
   "cell_type": "code",
   "execution_count": 8,
   "metadata": {
    "ExecuteTime": {
     "end_time": "2021-01-17T22:31:47.089291Z",
     "start_time": "2021-01-17T22:31:47.043178Z"
    }
   },
   "outputs": [
    {
     "name": "stdout",
     "output_type": "stream",
     "text": [
      "Number of unique users:  320\n"
     ]
    }
   ],
   "source": [
    "print('Number of unique users: ',len(np.unique(data.loc[:,['reviewerID']].values)))"
   ]
  },
  {
   "cell_type": "code",
   "execution_count": 9,
   "metadata": {
    "ExecuteTime": {
     "end_time": "2021-01-17T22:31:47.377602Z",
     "start_time": "2021-01-17T22:31:47.110278Z"
    }
   },
   "outputs": [
    {
     "name": "stdout",
     "output_type": "stream",
     "text": [
      "Number of unique products:  801\n"
     ]
    }
   ],
   "source": [
    "print('Number of unique products: ',len(np.unique(data.loc[:,['productID']].values)))"
   ]
  },
  {
   "cell_type": "code",
   "execution_count": 10,
   "metadata": {
    "ExecuteTime": {
     "end_time": "2021-01-17T22:31:47.542181Z",
     "start_time": "2021-01-17T22:31:47.390723Z"
    }
   },
   "outputs": [
    {
     "name": "stdout",
     "output_type": "stream",
     "text": [
      "Number of possible reviews:  641601\n"
     ]
    }
   ],
   "source": [
    "print('Number of possible reviews: ',len(np.unique(data.loc[:,['productID']].values))*len(np.unique(data.loc[:,['productID']].values)))"
   ]
  },
  {
   "cell_type": "code",
   "execution_count": 11,
   "metadata": {
    "ExecuteTime": {
     "end_time": "2021-01-17T22:31:47.614352Z",
     "start_time": "2021-01-17T22:31:47.570291Z"
    }
   },
   "outputs": [
    {
     "name": "stdout",
     "output_type": "stream",
     "text": [
      "Number of possible reviews:  99.2852255529527\n"
     ]
    }
   ],
   "source": [
    "print('Number of possible reviews: ',100-100*len(data)/(len(np.unique(data.loc[:,['productID']].values))*len(np.unique(data.loc[:,['productID']].values))))"
   ]
  },
  {
   "cell_type": "markdown",
   "metadata": {},
   "source": [
    "This means the sparsity of our user-product matrix is around 99% which makes the problem solvable."
   ]
  },
  {
   "cell_type": "code",
   "execution_count": 12,
   "metadata": {
    "ExecuteTime": {
     "end_time": "2021-01-17T22:32:05.138927Z",
     "start_time": "2021-01-17T22:31:47.627411Z"
    }
   },
   "outputs": [
    {
     "data": {
      "image/png": "[encoded data removed]",
      "text/plain": [
       "<Figure size 1080x576 with 2 Axes>"
      ]
     },
     "metadata": {},
     "output_type": "display_data"
    }
   ],
   "source": [
    "# Plot a heatmap of reviews and products ratings\n",
    "\n",
    "plt.figure(figsize=(15, 8))\n",
    "colormap = plt.cm.coolwarm\n",
    "sns.heatmap(data.iloc[:,].pivot(index = 'reviewerID',\n",
    "                                columns = 'productID',\n",
    "                                values = 'ratingScore'),\n",
    "            cmap = colormap)\n",
    "plt.title('Heatmap of reviews and products ratings')\n",
    "plt.show()"
   ]
  },
  {
   "cell_type": "markdown",
   "metadata": {},
   "source": [
    "We can see that there is a lot of sparcity, which is normal, not every user reviewed every single book, and no book is reviewed by all users.\n",
    "\n",
    "What is more interesting though is to see that the more a book is read, the higher its ratings, which we would suspect given that only good and famous books are read by a lot of people. We can also observe that some users are more severe than others, giving lower ratings in general.\n",
    "\n",
    "This entails us to see the distribution of average rating per user."
   ]
  },
  {
   "cell_type": "code",
   "execution_count": 13,
   "metadata": {
    "ExecuteTime": {
     "end_time": "2021-01-17T22:32:05.345294Z",
     "start_time": "2021-01-17T22:32:05.144642Z"
    },
    "id": "tAdcdQBKn6QY"
   },
   "outputs": [],
   "source": [
    "# Add the mean rating per reviewer\n",
    "\n",
    "reviewer_rating = data.groupby(['reviewerID'])['ratingScore'].mean()\n",
    "data = pd.merge(data,reviewer_rating, how = 'left', on = 'reviewerID')\n",
    "data = data.rename(columns = {'ratingScore_x':'ratingScore',\n",
    "                              'ratingScore_y':'mean_rating_reviewer'})\n",
    "\n",
    "# Add the number of reviews per product\n",
    "\n",
    "product_rating = data.groupby(['productID'])['reviewerID'].count()\n",
    "data = pd.merge(data,product_rating, how = 'left', on = 'productID')\n",
    "data = data.rename(columns = {'reviewerID_x':'reviewerID',\n",
    "                              'reviewerID_y':'nb_reviews_product'})\n",
    "\n",
    "# Add the number of reviews per reviewers\n",
    "\n",
    "nb_reviews_reviewer = data.groupby(['reviewerID'])['ratingScore'].count()\n",
    "data = pd.merge(data,nb_reviews_reviewer, how = 'left', on = 'reviewerID')\n",
    "data = data.rename(columns = {'ratingScore_x':'ratingScore',\n",
    "                              'ratingScore_y':'nb_reviews_reviewer'})\n",
    "\n",
    "# Add the mean rating per product\n",
    "\n",
    "product_rating = data.groupby(['productID'])['ratingScore'].mean()\n",
    "data = pd.merge(data,product_rating, how = 'left', on = 'productID')\n",
    "data = data.rename(columns = {'ratingScore_x':'ratingScore',\n",
    "                              'ratingScore_y':'mean_rating_product'})"
   ]
  },
  {
   "cell_type": "code",
   "execution_count": 14,
   "metadata": {
    "ExecuteTime": {
     "end_time": "2021-01-17T22:32:06.640325Z",
     "start_time": "2021-01-17T22:32:05.400766Z"
    },
    "colab": {
     "base_uri": "https://localhost:8080/",
     "height": 518
    },
    "id": "crHV4ecLn6Wy",
    "outputId": "ef321497-3ee9-45f7-ba92-73f026690487"
   },
   "outputs": [
    {
     "data": {
      "image/png": "[encoded data removed]",
      "text/plain": [
       "<Figure size 720x576 with 1 Axes>"
      ]
     },
     "metadata": {},
     "output_type": "display_data"
    }
   ],
   "source": [
    "# Distribution of the average rating per reviewer\n",
    "\n",
    "fig = plt.figure(figsize=(10, 8))\n",
    "plt.hist(data['mean_rating_reviewer'],bins=30, color='#ff958f')\n",
    "plt.xlabel('Average rating per reviewer')\n",
    "plt.ylabel('Number of ratings per bin')\n",
    "ax = plt.gca()\n",
    "ax.set_facecolor('#f5f5f5')\n",
    "ax.set_title('Number of average ratings per reviewer')\n",
    "plt.show()"
   ]
  },
  {
   "cell_type": "markdown",
   "metadata": {},
   "source": [
    "We see that the average rating per reviewer is quite distributed, which we wouldn't suspect at first. Indeed, either some users seem to be more severe than others or they just didn't find enough interesting books for them. A majority of voters however seem to rate the books they read in a satisfactory fashion, giving a rating between 4 and 4.5. This could either mean that the users bypass the recommendations and only buy books which they are sure they will like, or the recommended products are well received. Coincidently, we also notice that some books were very poorly rated by the reviewers, showing either that the recommended books were not adapted (maybe due to the cold-start issue), or that the spontaneously purchased elements were disappointing.  \n",
    "\n",
    "The average rating per user is very important to our project. Given that we want to give the best recommendations to each reader, we have to maximize the expectancy of this average."
   ]
  },
  {
   "cell_type": "code",
   "execution_count": 15,
   "metadata": {
    "ExecuteTime": {
     "end_time": "2021-01-17T22:32:08.137035Z",
     "start_time": "2021-01-17T22:32:06.651251Z"
    },
    "colab": {
     "base_uri": "https://localhost:8080/",
     "height": 572
    },
    "id": "-jpcevpBn6Z9",
    "outputId": "059cc3e4-ceed-4995-cb24-b3dbc08392f8"
   },
   "outputs": [
    {
     "data": {
      "image/png": "[encoded data removed]",
      "text/plain": [
       "<Figure size 720x576 with 1 Axes>"
      ]
     },
     "metadata": {},
     "output_type": "display_data"
    }
   ],
   "source": [
    "# Distribution of the average rating per product\n",
    "\n",
    "fig = plt.figure(figsize=(10, 8))\n",
    "plt.hist(data['mean_rating_product'],bins=30, color='#ff958f')\n",
    "plt.xlabel('Average rating per product')\n",
    "plt.ylabel('Number of ratings per bin')\n",
    "ax = plt.gca()\n",
    "ax.set_facecolor('#f5f5f5')\n",
    "ax.set_title('Number of average ratings per product')\n",
    "plt.show()"
   ]
  },
  {
   "cell_type": "markdown",
   "metadata": {},
   "source": [
    "We also see that the average rating per product is quite distributed as well, this is more expected but important for us. Even if the range of rating scale is from 1 to 5, only very few books are rated below 3, meaning that users generally read a book only when they suspect they will like it. \n",
    "\n",
    "Unlike other types of product, in which elements like the manufacturing quality, the durability, or the packaging, in the case of books the only element which will decide if a book is well rated or not (except in situations where their was an issue with the delivery or the transaction, therefore having nothing to do with the book in and of itself) is the appreciation of the reader of said book. Hence, the fact that some of the products were given bad ratings does not necessarily mean that they should be less put forward, but rather that they are recommended to the wrong category of customers. \n",
    "\n",
    "Another element which arises from the analysis of this plot is the correlation between the average rating of a product and the number of ratings said product has received. We often notice ourselves when shopping that the products which are highly rated have also received far more reviews than similar products, and are therefore heavily put forward by the platform. This element should not be neglected, as the comments and ratings given by other customers (and therefore their satisfaction with the product or lack thereof) are a critical factor in the final decision to buy or not. \n",
    "\n",
    "To better take into account the distribution of the ratings, one can normalize the ratings to improve some models."
   ]
  },
  {
   "cell_type": "code",
   "execution_count": 16,
   "metadata": {
    "ExecuteTime": {
     "end_time": "2021-01-17T22:32:08.221451Z",
     "start_time": "2021-01-17T22:32:08.145284Z"
    },
    "colab": {
     "base_uri": "https://localhost:8080/",
     "height": 662
    },
    "id": "f_EtVTWJn6em",
    "outputId": "5305e34c-6226-4070-8375-79e95cc75362"
   },
   "outputs": [
    {
     "data": {
      "text/html": [
       "<div>\n",
       "<style scoped>\n",
       "    .dataframe tbody tr th:only-of-type {\n",
       "        vertical-align: middle;\n",
       "    }\n",
       "\n",
       "    .dataframe tbody tr th {\n",
       "        vertical-align: top;\n",
       "    }\n",
       "\n",
       "    .dataframe thead th {\n",
       "        text-align: right;\n",
       "    }\n",
       "</style>\n",
       "<table border=\"1\" class=\"dataframe\">\n",
       "  <thead>\n",
       "    <tr style=\"text-align: right;\">\n",
       "      <th></th>\n",
       "      <th>reviewerID</th>\n",
       "      <th>productID</th>\n",
       "      <th>category</th>\n",
       "      <th>description</th>\n",
       "      <th>title</th>\n",
       "      <th>brand</th>\n",
       "      <th>rank</th>\n",
       "      <th>price</th>\n",
       "      <th>ratingScore</th>\n",
       "      <th>mean_rating_reviewer</th>\n",
       "      <th>nb_reviews_product</th>\n",
       "      <th>nb_reviews_reviewer</th>\n",
       "      <th>mean_rating_product</th>\n",
       "    </tr>\n",
       "  </thead>\n",
       "  <tbody>\n",
       "    <tr>\n",
       "      <th>0</th>\n",
       "      <td>AOGE8PM6KED3O</td>\n",
       "      <td>0007133766</td>\n",
       "      <td>['Books', 'Science Fiction &amp; Fantasy', 'Fantasy']</td>\n",
       "      <td>[]</td>\n",
       "      <td>Flight of the Nighthawks (Darkwar)</td>\n",
       "      <td>Visit Amazon's Raymond E Feist Page</td>\n",
       "      <td>2,095,763 in Books (</td>\n",
       "      <td>$14.83</td>\n",
       "      <td>2.0</td>\n",
       "      <td>3.642857</td>\n",
       "      <td>8</td>\n",
       "      <td>14</td>\n",
       "      <td>4.000000</td>\n",
       "    </tr>\n",
       "    <tr>\n",
       "      <th>1</th>\n",
       "      <td>A21NVBFIEQWDSG</td>\n",
       "      <td>0007140975</td>\n",
       "      <td>['Books', 'Politics &amp; Social Sciences', 'Polit...</td>\n",
       "      <td>['\"[A] very well-written rant against all the ...</td>\n",
       "      <td>How Mumbo-Jumbo Conquered the World: A Short H...</td>\n",
       "      <td>Visit Amazon's Francis Wheen Page</td>\n",
       "      <td>3,310,195 in Books (</td>\n",
       "      <td>$3.00</td>\n",
       "      <td>4.0</td>\n",
       "      <td>4.142857</td>\n",
       "      <td>2</td>\n",
       "      <td>14</td>\n",
       "      <td>3.000000</td>\n",
       "    </tr>\n",
       "    <tr>\n",
       "      <th>2</th>\n",
       "      <td>A30KEXFT9SILL6</td>\n",
       "      <td>0001047868</td>\n",
       "      <td>['Books', 'Literature &amp; Fiction', 'Classics']</td>\n",
       "      <td>[\"Grade 6 Up-Kidnapped by Robert Louis Stevens...</td>\n",
       "      <td>Kidnapped (HarperCollinsAudioBooks)</td>\n",
       "      <td>Visit Amazon's Robert Louis Stevenson Page</td>\n",
       "      <td>13,878,095 in Books (</td>\n",
       "      <td>NaN</td>\n",
       "      <td>5.0</td>\n",
       "      <td>3.891304</td>\n",
       "      <td>10</td>\n",
       "      <td>46</td>\n",
       "      <td>4.000000</td>\n",
       "    </tr>\n",
       "    <tr>\n",
       "      <th>3</th>\n",
       "      <td>A1DW4U1LQV0XW7</td>\n",
       "      <td>0006755224</td>\n",
       "      <td>['Books', 'Teen &amp; Young Adult']</td>\n",
       "      <td>[\"A powerful being fights for his life within ...</td>\n",
       "      <td>Dogsbody</td>\n",
       "      <td>Visit Amazon's Diana Wynne Jones Page</td>\n",
       "      <td>649,756 in Books (</td>\n",
       "      <td>NaN</td>\n",
       "      <td>3.0</td>\n",
       "      <td>4.250000</td>\n",
       "      <td>5</td>\n",
       "      <td>12</td>\n",
       "      <td>3.600000</td>\n",
       "    </tr>\n",
       "    <tr>\n",
       "      <th>4</th>\n",
       "      <td>A2RA98L9KYYWXS</td>\n",
       "      <td>0006159990</td>\n",
       "      <td>[]</td>\n",
       "      <td>[]</td>\n",
       "      <td>Murder in the Mews</td>\n",
       "      <td>Visit Amazon's Agatha Christie Page</td>\n",
       "      <td>3,556,182 in Books (</td>\n",
       "      <td>$4.16</td>\n",
       "      <td>3.0</td>\n",
       "      <td>3.777778</td>\n",
       "      <td>12</td>\n",
       "      <td>18</td>\n",
       "      <td>4.416667</td>\n",
       "    </tr>\n",
       "    <tr>\n",
       "      <th>5</th>\n",
       "      <td>A2HFL26OQJ2T9X</td>\n",
       "      <td>0006513905</td>\n",
       "      <td>['Books', 'Literature &amp; Fiction', 'Contemporary']</td>\n",
       "      <td>['The cult classic that can still change your ...</td>\n",
       "      <td>The Dice Man</td>\n",
       "      <td>Visit Amazon's Luke Rhinehart Page</td>\n",
       "      <td>799,132 in Books (</td>\n",
       "      <td>$13.09</td>\n",
       "      <td>4.0</td>\n",
       "      <td>3.062500</td>\n",
       "      <td>2</td>\n",
       "      <td>16</td>\n",
       "      <td>4.500000</td>\n",
       "    </tr>\n",
       "    <tr>\n",
       "      <th>6</th>\n",
       "      <td>A1JH5J1KQAUBMP</td>\n",
       "      <td>0007115288</td>\n",
       "      <td>['Books', 'Literature &amp; Fiction', 'Contemporary']</td>\n",
       "      <td>[\"'Mailer writes like an angel - a master of s...</td>\n",
       "      <td>An American Dream (1960s A S.)</td>\n",
       "      <td>Visit Amazon's Norman Mailer Page</td>\n",
       "      <td>13,976,882 in Books (</td>\n",
       "      <td>$46.90</td>\n",
       "      <td>4.0</td>\n",
       "      <td>4.125000</td>\n",
       "      <td>1</td>\n",
       "      <td>16</td>\n",
       "      <td>4.000000</td>\n",
       "    </tr>\n",
       "    <tr>\n",
       "      <th>7</th>\n",
       "      <td>ACIBQ6BQ6AWEV</td>\n",
       "      <td>0002310899</td>\n",
       "      <td>['Books', 'Mystery, Thriller &amp; Suspense', 'Mys...</td>\n",
       "      <td>[\"'Nothing should be taken for granted.' Spect...</td>\n",
       "      <td>Destination Unknown (Agatha Christie Collection)</td>\n",
       "      <td>Visit Amazon's Agatha Christie Page</td>\n",
       "      <td>2,766,478 in Books (</td>\n",
       "      <td>$26.27</td>\n",
       "      <td>3.0</td>\n",
       "      <td>3.861111</td>\n",
       "      <td>14</td>\n",
       "      <td>36</td>\n",
       "      <td>4.071429</td>\n",
       "    </tr>\n",
       "    <tr>\n",
       "      <th>8</th>\n",
       "      <td>AUM3YMZ0YRJE0</td>\n",
       "      <td>0001048767</td>\n",
       "      <td>['Books', 'New, Used &amp; Rental Textbooks', 'Hum...</td>\n",
       "      <td>['William Shakespeare is widely regarded as th...</td>\n",
       "      <td>Othello: Complete &amp;amp; Unabridged</td>\n",
       "      <td>Visit Amazon's William Shakespeare Page</td>\n",
       "      <td>18,682,789 in Books (</td>\n",
       "      <td>NaN</td>\n",
       "      <td>3.0</td>\n",
       "      <td>3.846154</td>\n",
       "      <td>39</td>\n",
       "      <td>13</td>\n",
       "      <td>4.615385</td>\n",
       "    </tr>\n",
       "    <tr>\n",
       "      <th>9</th>\n",
       "      <td>A2NJO6YE954DBH</td>\n",
       "      <td>0001713167</td>\n",
       "      <td>['Books', \"Children's Books\", 'Growing Up &amp; Fa...</td>\n",
       "      <td>['If you want a green kangaroo, a skateboard T...</td>\n",
       "      <td>Please Try to Remember the First of Octember (...</td>\n",
       "      <td>Theo Le Sieg</td>\n",
       "      <td>4,480,270 in Books (</td>\n",
       "      <td>$2.94</td>\n",
       "      <td>5.0</td>\n",
       "      <td>4.619048</td>\n",
       "      <td>3</td>\n",
       "      <td>21</td>\n",
       "      <td>4.333333</td>\n",
       "    </tr>\n",
       "  </tbody>\n",
       "</table>\n",
       "</div>"
      ],
      "text/plain": [
       "       reviewerID   productID  \\\n",
       "0   AOGE8PM6KED3O  0007133766   \n",
       "1  A21NVBFIEQWDSG  0007140975   \n",
       "2  A30KEXFT9SILL6  0001047868   \n",
       "3  A1DW4U1LQV0XW7  0006755224   \n",
       "4  A2RA98L9KYYWXS  0006159990   \n",
       "5  A2HFL26OQJ2T9X  0006513905   \n",
       "6  A1JH5J1KQAUBMP  0007115288   \n",
       "7   ACIBQ6BQ6AWEV  0002310899   \n",
       "8   AUM3YMZ0YRJE0  0001048767   \n",
       "9  A2NJO6YE954DBH  0001713167   \n",
       "\n",
       "                                            category  \\\n",
       "0  ['Books', 'Science Fiction & Fantasy', 'Fantasy']   \n",
       "1  ['Books', 'Politics & Social Sciences', 'Polit...   \n",
       "2      ['Books', 'Literature & Fiction', 'Classics']   \n",
       "3                    ['Books', 'Teen & Young Adult']   \n",
       "4                                                 []   \n",
       "5  ['Books', 'Literature & Fiction', 'Contemporary']   \n",
       "6  ['Books', 'Literature & Fiction', 'Contemporary']   \n",
       "7  ['Books', 'Mystery, Thriller & Suspense', 'Mys...   \n",
       "8  ['Books', 'New, Used & Rental Textbooks', 'Hum...   \n",
       "9  ['Books', \"Children's Books\", 'Growing Up & Fa...   \n",
       "\n",
       "                                         description  \\\n",
       "0                                                 []   \n",
       "1  ['\"[A] very well-written rant against all the ...   \n",
       "2  [\"Grade 6 Up-Kidnapped by Robert Louis Stevens...   \n",
       "3  [\"A powerful being fights for his life within ...   \n",
       "4                                                 []   \n",
       "5  ['The cult classic that can still change your ...   \n",
       "6  [\"'Mailer writes like an angel - a master of s...   \n",
       "7  [\"'Nothing should be taken for granted.' Spect...   \n",
       "8  ['William Shakespeare is widely regarded as th...   \n",
       "9  ['If you want a green kangaroo, a skateboard T...   \n",
       "\n",
       "                                               title  \\\n",
       "0                 Flight of the Nighthawks (Darkwar)   \n",
       "1  How Mumbo-Jumbo Conquered the World: A Short H...   \n",
       "2                Kidnapped (HarperCollinsAudioBooks)   \n",
       "3                                           Dogsbody   \n",
       "4                                 Murder in the Mews   \n",
       "5                                       The Dice Man   \n",
       "6                     An American Dream (1960s A S.)   \n",
       "7   Destination Unknown (Agatha Christie Collection)   \n",
       "8                 Othello: Complete &amp; Unabridged   \n",
       "9  Please Try to Remember the First of Octember (...   \n",
       "\n",
       "                                        brand                   rank   price  \\\n",
       "0         Visit Amazon's Raymond E Feist Page   2,095,763 in Books (  $14.83   \n",
       "1           Visit Amazon's Francis Wheen Page   3,310,195 in Books (   $3.00   \n",
       "2  Visit Amazon's Robert Louis Stevenson Page  13,878,095 in Books (     NaN   \n",
       "3       Visit Amazon's Diana Wynne Jones Page     649,756 in Books (     NaN   \n",
       "4         Visit Amazon's Agatha Christie Page   3,556,182 in Books (   $4.16   \n",
       "5          Visit Amazon's Luke Rhinehart Page     799,132 in Books (  $13.09   \n",
       "6           Visit Amazon's Norman Mailer Page  13,976,882 in Books (  $46.90   \n",
       "7         Visit Amazon's Agatha Christie Page   2,766,478 in Books (  $26.27   \n",
       "8     Visit Amazon's William Shakespeare Page  18,682,789 in Books (     NaN   \n",
       "9                                Theo Le Sieg   4,480,270 in Books (   $2.94   \n",
       "\n",
       "   ratingScore  mean_rating_reviewer  nb_reviews_product  nb_reviews_reviewer  \\\n",
       "0          2.0              3.642857                   8                   14   \n",
       "1          4.0              4.142857                   2                   14   \n",
       "2          5.0              3.891304                  10                   46   \n",
       "3          3.0              4.250000                   5                   12   \n",
       "4          3.0              3.777778                  12                   18   \n",
       "5          4.0              3.062500                   2                   16   \n",
       "6          4.0              4.125000                   1                   16   \n",
       "7          3.0              3.861111                  14                   36   \n",
       "8          3.0              3.846154                  39                   13   \n",
       "9          5.0              4.619048                   3                   21   \n",
       "\n",
       "   mean_rating_product  \n",
       "0             4.000000  \n",
       "1             3.000000  \n",
       "2             4.000000  \n",
       "3             3.600000  \n",
       "4             4.416667  \n",
       "5             4.500000  \n",
       "6             4.000000  \n",
       "7             4.071429  \n",
       "8             4.615385  \n",
       "9             4.333333  "
      ]
     },
     "execution_count": 16,
     "metadata": {},
     "output_type": "execute_result"
    }
   ],
   "source": [
    "data.head(10)"
   ]
  },
  {
   "cell_type": "code",
   "execution_count": 17,
   "metadata": {
    "ExecuteTime": {
     "end_time": "2021-01-17T22:32:08.277351Z",
     "start_time": "2021-01-17T22:32:08.233515Z"
    },
    "colab": {
     "base_uri": "https://localhost:8080/"
    },
    "id": "jni_VsLCzKYE",
    "outputId": "b5c1f7b4-77b4-42a4-c232-399a2ef0b6d8"
   },
   "outputs": [
    {
     "name": "stdout",
     "output_type": "stream",
     "text": [
      "Ranks range from 36170 to 20472904\n"
     ]
    }
   ],
   "source": [
    "# Transform rank feature from string to int\n",
    "\n",
    "def from_string_to_int(string):\n",
    "    return int(string.split()[0].replace(',',''))\n",
    "\n",
    "data['rank'] = data['rank'].apply(from_string_to_int)\n",
    "\n",
    "print('Ranks range from '+str(min(data['rank']))+\n",
    "      ' to '+str(max(data['rank'])))"
   ]
  },
  {
   "cell_type": "markdown",
   "metadata": {},
   "source": [
    "The ranks are the one given by the website, it's based on an algorithm that combines ratings, number of ratings, visitors and quite a lot of other parameters. The ranks are also relative to a certain category of books, and a high rating could be achieved by narrowing enough the category in which the book falls.\n",
    "\n",
    "Before constructing a model based on this feature, one has to verify that it doesn't bias the model."
   ]
  },
  {
   "cell_type": "code",
   "execution_count": 18,
   "metadata": {
    "ExecuteTime": {
     "end_time": "2021-01-17T22:32:09.754509Z",
     "start_time": "2021-01-17T22:32:08.294522Z"
    },
    "colab": {
     "base_uri": "https://localhost:8080/",
     "height": 158
    },
    "id": "1QyLmrZ_zN2W",
    "outputId": "ada7dc95-61e0-4666-8d32-5736e310c835"
   },
   "outputs": [
    {
     "data": {
      "image/png": "[encoded data removed]",
      "text/plain": [
       "<Figure size 576x432 with 2 Axes>"
      ]
     },
     "metadata": {},
     "output_type": "display_data"
    }
   ],
   "source": [
    "# Plot correlation matrix\n",
    "\n",
    "corr = data.corr()\n",
    "\n",
    "plt.figure(figsize=(8,6))\n",
    "mask = np.triu(np.ones_like(corr, dtype=bool))\n",
    "heatmap = sns.heatmap(corr, mask=mask, vmin=-1, vmax=1,\n",
    "                      annot=True, cmap='BrBG')\n",
    "heatmap.set_title('Triangle Correlation Heatmap',\n",
    "                  fontdict={'fontsize':18}, pad=16)\n",
    "plt.show()"
   ]
  },
  {
   "cell_type": "markdown",
   "metadata": {},
   "source": [
    "Surprinsigly, the rank is not very correlated to the mean rating per reviewer nor the mean rating per product. Maybe the rank is based on some other unknown features.\\\n",
    "We notice that the rating is heavily correlated to the mean rating per product, which was to be expected. The rating score is also very correlated to the mean rating per reviewer. This element shows that which we highlighted earlier, namely that the users rate the products in a homogenous fashion. Again this could show that the customers only buy books which they are sure they will like, or they only leave reviews if they're satisfied by the products. Conversely, this could also mean that if a customers mean rating is low, then maybe he only leaves reviews on books which he was not satisfied with. \n",
    "\n",
    "To further explore this relationship between the ratings and the number of reviews we plot the subsequent graph"
   ]
  },
  {
   "cell_type": "code",
   "execution_count": 19,
   "metadata": {
    "ExecuteTime": {
     "end_time": "2021-01-17T22:32:11.595537Z",
     "start_time": "2021-01-17T22:32:09.764490Z"
    },
    "colab": {
     "base_uri": "https://localhost:8080/",
     "height": 305
    },
    "id": "xmLAT7CZzH83",
    "outputId": "5bd6e037-ce98-45b2-eec1-b11e106e233b"
   },
   "outputs": [
    {
     "data": {
      "image/png": "[encoded data removed]",
      "text/plain": [
       "<Figure size 720x432 with 1 Axes>"
      ]
     },
     "metadata": {},
     "output_type": "display_data"
    }
   ],
   "source": [
    "# Average rating per product with respect to its number of reviews\n",
    "\n",
    "fig, axis1 = plt.subplots(1,1,figsize=(10,6))\n",
    "plt.ylim(0,5.5)\n",
    "sns.scatterplot(x=\"nb_reviews_product\", y=\"mean_rating_product\",ax=axis1, data = data)\n",
    "axis1.axhline(y= data['ratingScore'].mean(), color='red')\n",
    "plt.xlabel('Number of reviews for a product')\n",
    "plt.ylabel('Mean rating per product')\n",
    "plt.title('Mean rating as a function of the number of reviews received')\n",
    "plt.show()"
   ]
  },
  {
   "cell_type": "markdown",
   "metadata": {},
   "source": [
    "We see that the more reviews a product has, the higher its rating. This confirms our intuition that readers only read a book they think they'll like, and the most read books are generally the best ones and the highest rated. Nevertherless, books with lots of reviews are rated close to 4.2, not 5. \n",
    "\n",
    "This correlation however is not a causality. Indeed, the fact that a book has been reviewed many times does not necessarily mean that it is good, but points in that direction, as the number of reviews grows with the number of sales, which in turn mainly raise due to elements such as marketing, a cultural phenomenon (the release of a movie inspired from said book for instance), and of course the intrensic quality of the book. This should always be kept in mind, since those elements are impossible to predict or even quantify, and therefore useless when builind a machine learning model. "
   ]
  },
  {
   "cell_type": "code",
   "execution_count": 20,
   "metadata": {
    "ExecuteTime": {
     "end_time": "2021-01-17T22:32:11.989393Z",
     "start_time": "2021-01-17T22:32:11.609389Z"
    },
    "colab": {
     "base_uri": "https://localhost:8080/",
     "height": 551
    },
    "id": "GgXzufAYNKX4",
    "outputId": "83a9fcc6-772f-4590-ccb7-0dcfd7602291"
   },
   "outputs": [
    {
     "data": {
      "text/html": [
       "<div>\n",
       "<style scoped>\n",
       "    .dataframe tbody tr th:only-of-type {\n",
       "        vertical-align: middle;\n",
       "    }\n",
       "\n",
       "    .dataframe tbody tr th {\n",
       "        vertical-align: top;\n",
       "    }\n",
       "\n",
       "    .dataframe thead th {\n",
       "        text-align: right;\n",
       "    }\n",
       "</style>\n",
       "<table border=\"1\" class=\"dataframe\">\n",
       "  <thead>\n",
       "    <tr style=\"text-align: right;\">\n",
       "      <th></th>\n",
       "      <th>reviewerID</th>\n",
       "      <th>productID</th>\n",
       "      <th>category</th>\n",
       "      <th>description</th>\n",
       "      <th>title</th>\n",
       "      <th>brand</th>\n",
       "      <th>rank</th>\n",
       "      <th>price</th>\n",
       "      <th>ratingScore</th>\n",
       "      <th>mean_rating_reviewer</th>\n",
       "      <th>nb_reviews_product</th>\n",
       "      <th>nb_reviews_reviewer</th>\n",
       "      <th>mean_rating_product</th>\n",
       "    </tr>\n",
       "  </thead>\n",
       "  <tbody>\n",
       "    <tr>\n",
       "      <th>0</th>\n",
       "      <td>AOGE8PM6KED3O</td>\n",
       "      <td>0007133766</td>\n",
       "      <td>Science Fiction &amp; Fantasy, Fantasy</td>\n",
       "      <td>[]</td>\n",
       "      <td>Flight of the Nighthawks (Darkwar)</td>\n",
       "      <td>Raymond E Feist</td>\n",
       "      <td>2095763</td>\n",
       "      <td>14.83</td>\n",
       "      <td>2.0</td>\n",
       "      <td>3.642857</td>\n",
       "      <td>8</td>\n",
       "      <td>14</td>\n",
       "      <td>4.000000</td>\n",
       "    </tr>\n",
       "    <tr>\n",
       "      <th>1</th>\n",
       "      <td>A21NVBFIEQWDSG</td>\n",
       "      <td>0007140975</td>\n",
       "      <td>Politics &amp; Social Sciences, Politics &amp; Government</td>\n",
       "      <td>['\"[A] very well-written rant against all the ...</td>\n",
       "      <td>How Mumbo-Jumbo Conquered the World: A Short H...</td>\n",
       "      <td>Francis Wheen</td>\n",
       "      <td>3310195</td>\n",
       "      <td>3.00</td>\n",
       "      <td>4.0</td>\n",
       "      <td>4.142857</td>\n",
       "      <td>2</td>\n",
       "      <td>14</td>\n",
       "      <td>3.000000</td>\n",
       "    </tr>\n",
       "    <tr>\n",
       "      <th>2</th>\n",
       "      <td>A30KEXFT9SILL6</td>\n",
       "      <td>0001047868</td>\n",
       "      <td>Literature &amp; Fiction, Classics</td>\n",
       "      <td>[\"Grade 6 Up-Kidnapped by Robert Louis Stevens...</td>\n",
       "      <td>Kidnapped (HarperCollinsAudioBooks)</td>\n",
       "      <td>Robert Louis Stevenson</td>\n",
       "      <td>13878095</td>\n",
       "      <td>NaN</td>\n",
       "      <td>5.0</td>\n",
       "      <td>3.891304</td>\n",
       "      <td>10</td>\n",
       "      <td>46</td>\n",
       "      <td>4.000000</td>\n",
       "    </tr>\n",
       "    <tr>\n",
       "      <th>3</th>\n",
       "      <td>A1DW4U1LQV0XW7</td>\n",
       "      <td>0006755224</td>\n",
       "      <td>Teen &amp; Young Adult</td>\n",
       "      <td>[\"A powerful being fights for his life within ...</td>\n",
       "      <td>Dogsbody</td>\n",
       "      <td>Diana Wynne Jones</td>\n",
       "      <td>649756</td>\n",
       "      <td>NaN</td>\n",
       "      <td>3.0</td>\n",
       "      <td>4.250000</td>\n",
       "      <td>5</td>\n",
       "      <td>12</td>\n",
       "      <td>3.600000</td>\n",
       "    </tr>\n",
       "    <tr>\n",
       "      <th>4</th>\n",
       "      <td>A2RA98L9KYYWXS</td>\n",
       "      <td>0006159990</td>\n",
       "      <td></td>\n",
       "      <td>[]</td>\n",
       "      <td>Murder in the Mews</td>\n",
       "      <td>Agatha Christie</td>\n",
       "      <td>3556182</td>\n",
       "      <td>4.16</td>\n",
       "      <td>3.0</td>\n",
       "      <td>3.777778</td>\n",
       "      <td>12</td>\n",
       "      <td>18</td>\n",
       "      <td>4.416667</td>\n",
       "    </tr>\n",
       "  </tbody>\n",
       "</table>\n",
       "</div>"
      ],
      "text/plain": [
       "       reviewerID   productID  \\\n",
       "0   AOGE8PM6KED3O  0007133766   \n",
       "1  A21NVBFIEQWDSG  0007140975   \n",
       "2  A30KEXFT9SILL6  0001047868   \n",
       "3  A1DW4U1LQV0XW7  0006755224   \n",
       "4  A2RA98L9KYYWXS  0006159990   \n",
       "\n",
       "                                            category  \\\n",
       "0                 Science Fiction & Fantasy, Fantasy   \n",
       "1  Politics & Social Sciences, Politics & Government   \n",
       "2                     Literature & Fiction, Classics   \n",
       "3                                 Teen & Young Adult   \n",
       "4                                                      \n",
       "\n",
       "                                         description  \\\n",
       "0                                                 []   \n",
       "1  ['\"[A] very well-written rant against all the ...   \n",
       "2  [\"Grade 6 Up-Kidnapped by Robert Louis Stevens...   \n",
       "3  [\"A powerful being fights for his life within ...   \n",
       "4                                                 []   \n",
       "\n",
       "                                               title                    brand  \\\n",
       "0                 Flight of the Nighthawks (Darkwar)         Raymond E Feist    \n",
       "1  How Mumbo-Jumbo Conquered the World: A Short H...           Francis Wheen    \n",
       "2                Kidnapped (HarperCollinsAudioBooks)  Robert Louis Stevenson    \n",
       "3                                           Dogsbody       Diana Wynne Jones    \n",
       "4                                 Murder in the Mews         Agatha Christie    \n",
       "\n",
       "       rank  price  ratingScore  mean_rating_reviewer  nb_reviews_product  \\\n",
       "0   2095763  14.83          2.0              3.642857                   8   \n",
       "1   3310195   3.00          4.0              4.142857                   2   \n",
       "2  13878095    NaN          5.0              3.891304                  10   \n",
       "3    649756    NaN          3.0              4.250000                   5   \n",
       "4   3556182   4.16          3.0              3.777778                  12   \n",
       "\n",
       "   nb_reviews_reviewer  mean_rating_product  \n",
       "0                   14             4.000000  \n",
       "1                   14             3.000000  \n",
       "2                   46             4.000000  \n",
       "3                   12             3.600000  \n",
       "4                   18             4.416667  "
      ]
     },
     "execution_count": 20,
     "metadata": {},
     "output_type": "execute_result"
    }
   ],
   "source": [
    "# Let's clean the data for further development of the models\n",
    "\n",
    "data['price'] = data['price'].replace('[\\$,]', '', regex=True).astype(float)\n",
    "data['brand'] = data['brand'].replace(['Visit Amazon\\'s ','Page'],'', regex=True)\n",
    "data['category'] = data['category'].replace(['\\'Books\\', ',']','\\[','\\'','\\\"'],'', regex=True)\n",
    "\n",
    "data.head()"
   ]
  },
  {
   "cell_type": "code",
   "execution_count": 21,
   "metadata": {
    "ExecuteTime": {
     "end_time": "2021-01-17T22:32:12.097036Z",
     "start_time": "2021-01-17T22:32:11.997581Z"
    }
   },
   "outputs": [],
   "source": [
    "# Get all book categories and number of their occurences in a sorted dictionary\n",
    "\n",
    "categories = data['category'].apply(lambda x: x.split(','))\n",
    "categories = [item for sublist in categories for item in sublist]\n",
    "categories = [item.strip() for item in categories]\n",
    "categories.remove('')\n",
    "\n",
    "occur = {}\n",
    "for i,item in enumerate(categories):\n",
    "    occur[item] = occur.get(item, 0) + 1\n",
    "occur['None'] = occur.pop('')\n",
    "occur = sorted(occur.items(), key=lambda x: x[1], reverse=True)\n",
    "occur = {item[0]: item[1] for item in occur}"
   ]
  },
  {
   "cell_type": "code",
   "execution_count": 22,
   "metadata": {
    "ExecuteTime": {
     "end_time": "2021-01-17T22:32:12.130588Z",
     "start_time": "2021-01-17T22:32:12.116823Z"
    }
   },
   "outputs": [],
   "source": [
    "plt.rcParams.update({'font.size': 22})"
   ]
  },
  {
   "cell_type": "code",
   "execution_count": 23,
   "metadata": {
    "ExecuteTime": {
     "end_time": "2021-01-17T22:32:14.504788Z",
     "start_time": "2021-01-17T22:32:12.139355Z"
    }
   },
   "outputs": [
    {
     "data": {
      "image/png": "[encoded data removed]",
      "text/plain": [
       "<Figure size 864x432 with 1 Axes>"
      ]
     },
     "metadata": {},
     "output_type": "display_data"
    }
   ],
   "source": [
    "# Plot a histogram of the 30 first categories\n",
    "\n",
    "categories_1 = list(occur.keys())[:30]\n",
    "occurences_1 = list(occur.values())[:30]\n",
    "\n",
    "fig, ax = plt.subplots(figsize=(12,6))\n",
    "ax.bar(categories_1,occurences_1)\n",
    "plt.xticks(rotation=85)\n",
    "plt.xlabel('Categories')\n",
    "plt.ylabel('Number of books')\n",
    "ax.set_facecolor('#f5f5f5')\n",
    "ax.set_title('Histogram of categories')\n",
    "\n",
    "for item in ([ax.title, ax.xaxis.label, ax.yaxis.label] +\n",
    "             ax.get_xticklabels() + ax.get_yticklabels()):\n",
    "    item.set_fontsize(16) \n",
    "plt.show()\n",
    "\n",
    "# Get font sizes in plot to default\n",
    "plt.rcParams.update({'font.size': 22})"
   ]
  },
  {
   "cell_type": "markdown",
   "metadata": {},
   "source": [
    "This histogram shows the categories by occurences. The majority of books are either from 'Litterature & Fiction', 'Mystery', or 'Thriller & Suspens'. Note that the categories are not mutually exclusive.\\\n",
    "What would be more important to see is the interactions between categories from books, so that for example if a lot of books from 'Thriller & Suspens' are also in 'Mystery', and some user likes 'Thriller & Suspens', we would also recommend books from 'Mystery'."
   ]
  },
  {
   "cell_type": "markdown",
   "metadata": {
    "id": "7SfI4ICC3Z-X"
   },
   "source": [
    "## A first model using SVD"
   ]
  },
  {
   "cell_type": "markdown",
   "metadata": {},
   "source": [
    "The first model we are going to use is part of the *model-based* approaches. These modeles were made famous during the Netflix Prize in 2006. They mainly rely on matrix factorization methods.\n",
    "\n",
    "If we denote $X \\in \\mathbb{R}^{n \\times m}$ our user-product matrix for $n$ clients and $m$ products where $x_{i,j}$ is the review of user $i$ for product $j$. This matrix is sparse : there are a lot of unknown coefficients in it. Our model will try to fill it basedd on what he already has.\n",
    "\n",
    "This thus becomes an imputation problem. We try to estimate a complete matrix $Z \\in \\mathbb{R}^{n \\times m}$ such that $Z \\approx X$. To make the problem easier let's assume $Z$ can be represented by a lower rank $k$ matrix such that $k \\ll min(m,n)$. Then we can find $Z \\approx V  G$ with $V \\in \\mathbb{R}^{n \\times k}$ and $G \\in \\mathbb{R}^{k \\times m}$.\n",
    "\n",
    "Let $\\Omega \\subset \\{1,...,n\\} \\times \\{1,...,m\\}$ be the index for whom $x_{i,j}$ is observed. Let's consider the following problem :\n",
    "\n",
    "$$\n",
    "\\min_{Z \\in \\mathbb{R}^{n \\times m}} \\text{rang}(Z) \\; \\;\n",
    "\\text{s.c.} \\sum_{(i,j) \\in \\Omega} (X_{i,j}-Z_{i,j})^2 \\leq \\delta\n",
    "$$\n",
    "\n",
    "The problem is too hard for $\\Omega \\neq \\emptyset$. Otherwise if $\\Omega = \\emptyset$ we can take :\n",
    "\n",
    "$$\n",
    "Z^k = U_k \\Sigma_k V_k^T\n",
    "$$\n",
    "\n",
    "with $U_k \\in \\mathbb{R}^{n \\times k}$ orthogonal, $V_k \\in \\mathbb{R}^{m \\times k}$ orthogonal and $\\Sigma \\in \\mathbb{R}^{k \\times k}$ such that $\\Sigma_k = diag(\\lambda_1,...,\\lambda_k)$.\n",
    "\n",
    "Let's consider an equivalent problem :\n",
    "\n",
    "$$\n",
    "\\min_{Z \\in \\mathbb{R}^{n \\times m}} \\left\\lVert Z \\right\\rVert_{*} \\; \\;\n",
    "\\text{s.c.} \\sum_{(i,j) \\in \\Omega} (X_{i,j}-Z_{i,j})^2 \\leq \\delta\n",
    "$$\n",
    "\n",
    "where $\\left\\lVert . \\right\\rVert_{*}$ is the nuclear norm.\n",
    "\n",
    "This problem is now convex thanks to the nuclear norm. Even thouhg it is simpler it reamins hard for large $X$ matrices.\n",
    "\n",
    "Now let's consider a final problem :\n",
    "\n",
    "$$\n",
    "\\min_{Z \\in \\mathbb{R}^{n \\times m}} \\frac{1}{2}\n",
    "\\sum_{(i,j) \\in \\Omega} (X_{i,j}-Z_{i,j})^2\n",
    "+ \\lambda \\left\\lVert Z \\right\\rVert_{*}\n",
    "$$\n",
    "\n",
    "This is a simpler problem that can be solved even with large matrices : $m$ et $n \\simeq 10^5-10^6$.\n",
    "\n",
    "We will resolve this problem with the `soft impute` algorithm."
   ]
  },
  {
   "cell_type": "markdown",
   "metadata": {},
   "source": [
    "First, let's import the required packages. For this we will use `IterativeImputer` from `sklearn`."
   ]
  },
  {
   "cell_type": "code",
   "execution_count": 24,
   "metadata": {
    "ExecuteTime": {
     "end_time": "2021-01-17T22:32:14.973415Z",
     "start_time": "2021-01-17T22:32:14.513572Z"
    },
    "id": "512L2lNR26BA"
   },
   "outputs": [],
   "source": [
    "from sklearn.experimental import enable_iterative_imputer\n",
    "from sklearn.impute import IterativeImputer"
   ]
  },
  {
   "cell_type": "code",
   "execution_count": 25,
   "metadata": {
    "ExecuteTime": {
     "end_time": "2021-01-17T22:32:15.032782Z",
     "start_time": "2021-01-17T22:32:14.985146Z"
    }
   },
   "outputs": [],
   "source": [
    "from sklearn.model_selection import train_test_split\n",
    "X_train, X_test, y_train, y_test = train_test_split(X, y, test_size=0.2, random_state=0)"
   ]
  },
  {
   "cell_type": "markdown",
   "metadata": {},
   "source": [
    "Then we build our user-product matrix, here it's `ratings_matrix`. `IterativeImputer` requires a 2D array so we have to convert our matrix, here it's `ratings_array`."
   ]
  },
  {
   "cell_type": "code",
   "execution_count": 26,
   "metadata": {
    "ExecuteTime": {
     "end_time": "2021-01-17T22:32:15.822043Z",
     "start_time": "2021-01-17T22:32:15.106598Z"
    },
    "id": "6SmB3uu-2mo0"
   },
   "outputs": [],
   "source": [
    "ratings_matrix = data.pivot_table(values='ratingScore', index='productID', columns='reviewerID', fill_value=0)\n",
    "ratings_array = ratings_matrix.values"
   ]
  },
  {
   "cell_type": "markdown",
   "metadata": {},
   "source": [
    "With the method `fit_transform` the algorithm fills our matrix."
   ]
  },
  {
   "cell_type": "code",
   "execution_count": 27,
   "metadata": {
    "ExecuteTime": {
     "end_time": "2021-01-17T22:33:11.800527Z",
     "start_time": "2021-01-17T22:32:15.878571Z"
    },
    "colab": {
     "base_uri": "https://localhost:8080/"
    },
    "id": "78oJe4bx2tjY",
    "outputId": "f7241f79-150b-4c31-945f-c11b3bcb4e9a"
   },
   "outputs": [
    {
     "name": "stderr",
     "output_type": "stream",
     "text": [
      "/Users/maximeberillon/.local/lib/python3.6/site-packages/sklearn/impute/_iterative.py:670: ConvergenceWarning: [IterativeImputer] Early stopping criterion not reached.\n",
      "  \" reached.\", ConvergenceWarning)\n"
     ]
    }
   ],
   "source": [
    "imp_mean = IterativeImputer(missing_values=0, random_state=0, min_value=1, max_value=5)\n",
    "ratings_array_predicted = imp_mean.fit_transform(ratings_array)"
   ]
  },
  {
   "cell_type": "code",
   "execution_count": 28,
   "metadata": {
    "ExecuteTime": {
     "end_time": "2021-01-17T22:33:11.852224Z",
     "start_time": "2021-01-17T22:33:11.830581Z"
    },
    "colab": {
     "base_uri": "https://localhost:8080/"
    },
    "id": "ep9oyBlq3VUm",
    "outputId": "8dbbdc21-59fd-403d-c887-990e5ac30cfd"
   },
   "outputs": [
    {
     "data": {
      "text/plain": [
       "array([[3.72395742, 2.82431693, 5.        , ..., 5.        , 3.95386531,\n",
       "        4.76406402],\n",
       "       [4.24249187, 4.56244511, 5.        , ..., 4.21769428, 3.73875888,\n",
       "        3.69711425],\n",
       "       [3.7449993 , 3.03853688, 5.        , ..., 4.84590387, 4.26982667,\n",
       "        4.5715409 ],\n",
       "       ...,\n",
       "       [3.80850885, 4.12495524, 5.        , ..., 5.        , 4.29026896,\n",
       "        4.51639362],\n",
       "       [2.85182003, 2.82206642, 4.48497248, ..., 4.63452698, 2.2117206 ,\n",
       "        4.68500904],\n",
       "       [3.74189994, 2.75026137, 5.        , ..., 5.        , 3.87089441,\n",
       "        4.79815968]])"
      ]
     },
     "execution_count": 28,
     "metadata": {},
     "output_type": "execute_result"
    }
   ],
   "source": [
    "ratings_array_predicted"
   ]
  },
  {
   "cell_type": "markdown",
   "metadata": {},
   "source": [
    "This is the method implemented in our starting kit"
   ]
  },
  {
   "cell_type": "code",
   "execution_count": 29,
   "metadata": {
    "ExecuteTime": {
     "end_time": "2021-01-17T22:33:11.899777Z",
     "start_time": "2021-01-17T22:33:11.863670Z"
    }
   },
   "outputs": [],
   "source": [
    "def svd_prediction(matrix, array, mean, u, i):\n",
    "    '''\n",
    "    Given a user-product matrix and the corresponding 2D array\n",
    "    Return the predicted ratingScore\n",
    "    If its a new user or a new product it returns the mean ratingScore\n",
    "    '''\n",
    "    if i in matrix.index:\n",
    "        idx_i = matrix.index.get_loc(i)\n",
    "        idx_u = matrix.columns.get_loc(u)\n",
    "        pred = array[idx_i][idx_u]\n",
    "    else:\n",
    "        pred = mean\n",
    "    return pred"
   ]
  },
  {
   "cell_type": "code",
   "execution_count": 30,
   "metadata": {
    "ExecuteTime": {
     "end_time": "2021-01-17T22:33:11.964964Z",
     "start_time": "2021-01-17T22:33:11.939684Z"
    }
   },
   "outputs": [],
   "source": [
    "from sklearn.base import BaseEstimator\n",
    "\n",
    "class Regressor(BaseEstimator):\n",
    "    def __init__(self):\n",
    "        self.imp = IterativeImputer(missing_values=0,\n",
    "                                    random_state=0,\n",
    "                                    min_value=1,\n",
    "                                    max_value=5)\n",
    "\n",
    "    def fit(self, X, y):\n",
    "        self.mean_ratingScore = np.mean(y)\n",
    "        data = X.loc[:, ['reviewerID', 'productID']]\n",
    "        data['ratingScore'] = y\n",
    "        self.ratings_matrix = data.pivot_table(values='ratingScore',\n",
    "                                               index='productID',\n",
    "                                               columns='reviewerID',\n",
    "                                               fill_value=0)\n",
    "        ratings_array = self.ratings_matrix.values\n",
    "        self.ratings_array_predicted = self.imp.fit_transform(ratings_array)\n",
    "        return self\n",
    "\n",
    "    def predict(self, X):\n",
    "        y_pred = [svd_prediction(self.ratings_matrix,\n",
    "                                 self.ratings_array_predicted,\n",
    "                                 self.mean_ratingScore,\n",
    "                                 x[0], x[1]) for x in X.values]\n",
    "        y_pred=np.array(y_pred)\n",
    "        return y_pred.reshape((y_pred.shape[0],-1))"
   ]
  },
  {
   "cell_type": "code",
   "execution_count": 31,
   "metadata": {
    "ExecuteTime": {
     "end_time": "2021-01-17T22:33:56.154715Z",
     "start_time": "2021-01-17T22:33:11.974406Z"
    }
   },
   "outputs": [
    {
     "name": "stderr",
     "output_type": "stream",
     "text": [
      "/Users/maximeberillon/.local/lib/python3.6/site-packages/sklearn/impute/_iterative.py:670: ConvergenceWarning: [IterativeImputer] Early stopping criterion not reached.\n",
      "  \" reached.\", ConvergenceWarning)\n"
     ]
    },
    {
     "data": {
      "text/plain": [
       "Regressor()"
      ]
     },
     "execution_count": 31,
     "metadata": {},
     "output_type": "execute_result"
    }
   ],
   "source": [
    "model = Regressor()\n",
    "model.fit(X_train, y_train)"
   ]
  },
  {
   "cell_type": "code",
   "execution_count": 32,
   "metadata": {
    "ExecuteTime": {
     "end_time": "2021-01-17T22:33:56.563757Z",
     "start_time": "2021-01-17T22:33:56.171392Z"
    }
   },
   "outputs": [],
   "source": [
    "y_pred = model.predict(X_test)"
   ]
  },
  {
   "cell_type": "code",
   "execution_count": 33,
   "metadata": {
    "ExecuteTime": {
     "end_time": "2021-01-17T22:33:56.758820Z",
     "start_time": "2021-01-17T22:33:56.638867Z"
    }
   },
   "outputs": [
    {
     "data": {
      "text/plain": [
       "1.2582736697812975"
      ]
     },
     "execution_count": 33,
     "metadata": {},
     "output_type": "execute_result"
    }
   ],
   "source": [
    "rmse_f(y_pred, y_test)"
   ]
  },
  {
   "cell_type": "markdown",
   "metadata": {
    "id": "OOMqnkms8-AT"
   },
   "source": [
    "## Second model introducing hybrid method"
   ]
  },
  {
   "cell_type": "markdown",
   "metadata": {},
   "source": [
    "The next method we will present is hybrid: it mixes an Item-KNN with a content-based approach.\n",
    "\n",
    "We define two types of similarity between products:\n",
    "- An item-based similarity: if two items are rated in the same way then they are close\n",
    "- A content-based similarity: if two items are defined by the same categories then they are close\n",
    "\n",
    "**Content-based similarity**\n",
    "\n",
    "To define the later we need to vectorize the products in terms of categories. We will achieve that by doing Multi Hot Encoding. In the example below we have:\n",
    "\n",
    "- A belongs to 2 categories: fantasy and Arts\n",
    "- B belongs to 3 categories: History, Arts and Litterature\n",
    "- C belongs to 1 category: Fantasy\n",
    "- D does not belong to any category\n",
    "\n",
    "Product | Fantasy | History | Arts | Litterature\n",
    "------- | ------- | ------- | ---- | -----------\n",
    "A | 1 | 0 | 1 | 0\n",
    "B | 0 | 1 | 1 | 1\n",
    "C | 1 | 0 | 0 | 0\n",
    "D | 0 | 0 | 0 | 0\n",
    "\n",
    "Let's consider $u$ and $v$ that corresponds to the categories of product $i$ and $j$. The cosine similarity fo these two products are defined by:\n",
    "\n",
    "$$\n",
    "\\text{CosSim}(i,j)\n",
    "=\\frac\n",
    "{\\sum_{k=1}^M u_k v_k}\n",
    "{\n",
    "\\sqrt{\\sum_{k=1}^M u_k^2}\n",
    "\\sqrt{\\sum_{k=1}^M v_k^2}\n",
    "}\n",
    "$$\n",
    "\n",
    "**Item-based similarity**\n",
    "\n",
    "The item-based similarity is computed with the scores of each product.\n",
    "\n",
    "$$\n",
    "\\text{ScoSim}(i,j) =\\frac{\\sum_{u \\in \\mathcal{U}_{i,j}} (r_{u,i}-\\overline{r_i}) (r_{u,j}-\\overline{r_j})}{\\sqrt{\\sum_{u \\in \\mathcal{U}_{i,j}} (r_{u,i}-\\overline{r_i})^2 \\times \\sum_{u \\in \\mathcal{U}_{i,j}} (r_{u,j}-\\overline{r_j})^2}}\n",
    "$$\n",
    "\n",
    "with\n",
    "\n",
    "- $r_{u,i}$ the review given by $u$ for product $i$\n",
    "- $\\overline{r_i}$ the average review of product $i$\n",
    "- $\\mathcal{U}_{i,j}$ the set of user that both reviewed $i$ and $j$\n",
    "\n",
    "**Combined similarity**\n",
    "\n",
    "We can finally define the combined similarity that mixes the two approaches:\n",
    "\n",
    "$$\n",
    "\\text{CombSim}(i,j) = \\alpha \\: \\text{SemSim}(i,j) + (1-\\alpha) \\: NotSim(i,j)\n",
    "$$\n",
    "\n",
    "with $\\alpha$ a parameter to tune.\n",
    "\n",
    "**Predicting the review**\n",
    "\n",
    "Let $\\mathcal{N}_{u}^{k}(i)$ be the k nearest neighbors of $i$ reviewed by $u$ as defines by the similarity measure. We can now compute the prediction for product $i$ and user $u$:\n",
    "\n",
    "$$\n",
    "\\hat{r}_{u,i} = \\frac\n",
    "{\n",
    "\\sum_{j \\in \\mathcal{N}_{u}^{k}(i)} w_{i,j} r_{u,j}\n",
    "}\n",
    "{\n",
    "\\sum_{j \\in \\mathcal{N}_{u}^{k}(i)} |w_{i,j}|\n",
    "}\n",
    "$$\n",
    "\n",
    "Note that the reviews"
   ]
  },
  {
   "cell_type": "markdown",
   "metadata": {},
   "source": [
    "*Note: this methods won't be included in a submission file, the main point here is to show what is possible with this dataset. The following paragraph is to be seen as a possible reflexion pist for a better model*\n"
   ]
  },
  {
   "cell_type": "markdown",
   "metadata": {
    "ExecuteTime": {
     "end_time": "2021-01-17T17:42:10.433081Z",
     "start_time": "2021-01-17T17:42:10.378963Z"
    }
   },
   "source": [
    "First a little preprocessing !"
   ]
  },
  {
   "cell_type": "code",
   "execution_count": 34,
   "metadata": {
    "ExecuteTime": {
     "end_time": "2021-01-17T22:33:57.261126Z",
     "start_time": "2021-01-17T22:33:56.791890Z"
    }
   },
   "outputs": [
    {
     "data": {
      "text/html": [
       "<div>\n",
       "<style scoped>\n",
       "    .dataframe tbody tr th:only-of-type {\n",
       "        vertical-align: middle;\n",
       "    }\n",
       "\n",
       "    .dataframe tbody tr th {\n",
       "        vertical-align: top;\n",
       "    }\n",
       "\n",
       "    .dataframe thead th {\n",
       "        text-align: right;\n",
       "    }\n",
       "</style>\n",
       "<table border=\"1\" class=\"dataframe\">\n",
       "  <thead>\n",
       "    <tr style=\"text-align: right;\">\n",
       "      <th></th>\n",
       "      <th>reviewerID</th>\n",
       "      <th>productID</th>\n",
       "      <th>category</th>\n",
       "      <th>ratingScore</th>\n",
       "    </tr>\n",
       "  </thead>\n",
       "  <tbody>\n",
       "    <tr>\n",
       "      <th>0</th>\n",
       "      <td>A2GBJQ9THOYDAJ</td>\n",
       "      <td>0007161158</td>\n",
       "      <td>['Books', 'Literature &amp; Fiction', 'Genre Ficti...</td>\n",
       "      <td>4.0</td>\n",
       "    </tr>\n",
       "    <tr>\n",
       "      <th>1</th>\n",
       "      <td>A2PWUIQG57O1AZ</td>\n",
       "      <td>0006482511</td>\n",
       "      <td>['Books', 'Christian Books &amp; Bibles', 'Literat...</td>\n",
       "      <td>5.0</td>\n",
       "    </tr>\n",
       "    <tr>\n",
       "      <th>2</th>\n",
       "      <td>A1NC9AGZOBI0M1</td>\n",
       "      <td>0007120869</td>\n",
       "      <td>['Books', 'Mystery, Thriller &amp; Suspense', 'Mys...</td>\n",
       "      <td>4.0</td>\n",
       "    </tr>\n",
       "    <tr>\n",
       "      <th>3</th>\n",
       "      <td>AYXONN2ZFICBU</td>\n",
       "      <td>0007120818</td>\n",
       "      <td>['Books', 'Mystery, Thriller &amp; Suspense', 'Mys...</td>\n",
       "      <td>1.0</td>\n",
       "    </tr>\n",
       "    <tr>\n",
       "      <th>4</th>\n",
       "      <td>A3R1E4K7B6RUHP</td>\n",
       "      <td>0007179448</td>\n",
       "      <td>['Books', 'Literature &amp; Fiction', 'Classics']</td>\n",
       "      <td>3.0</td>\n",
       "    </tr>\n",
       "  </tbody>\n",
       "</table>\n",
       "</div>"
      ],
      "text/plain": [
       "       reviewerID   productID  \\\n",
       "0  A2GBJQ9THOYDAJ  0007161158   \n",
       "1  A2PWUIQG57O1AZ  0006482511   \n",
       "2  A1NC9AGZOBI0M1  0007120869   \n",
       "3   AYXONN2ZFICBU  0007120818   \n",
       "4  A3R1E4K7B6RUHP  0007179448   \n",
       "\n",
       "                                            category  ratingScore  \n",
       "0  ['Books', 'Literature & Fiction', 'Genre Ficti...          4.0  \n",
       "1  ['Books', 'Christian Books & Bibles', 'Literat...          5.0  \n",
       "2  ['Books', 'Mystery, Thriller & Suspense', 'Mys...          4.0  \n",
       "3  ['Books', 'Mystery, Thriller & Suspense', 'Mys...          1.0  \n",
       "4      ['Books', 'Literature & Fiction', 'Classics']          3.0  "
      ]
     },
     "execution_count": 34,
     "metadata": {},
     "output_type": "execute_result"
    }
   ],
   "source": [
    "df = X_train.loc[:,['reviewerID','productID','category']].drop_duplicates().reset_index(drop=True)\n",
    "df['ratingScore'] = y_train\n",
    "df.head()"
   ]
  },
  {
   "cell_type": "markdown",
   "metadata": {},
   "source": [
    "Right now the category data is rather messy since we have a string and not a list of list... Even though we already show in the exploratory analysis how to deal with that type of issue let's see another way of doing things.\n",
    "\n",
    "First we create `cat_list`: a list of list with every category of each item. Then we create `cat_list_ohe`: a list of arrays that represent each product categories as a vector."
   ]
  },
  {
   "cell_type": "code",
   "execution_count": 35,
   "metadata": {
    "ExecuteTime": {
     "end_time": "2021-01-17T22:33:59.160000Z",
     "start_time": "2021-01-17T22:33:57.297523Z"
    },
    "id": "6O9hISawLRCH"
   },
   "outputs": [],
   "source": [
    "import ast\n",
    "\n",
    "cat_list = []\n",
    "\n",
    "for i in range(len(df)):\n",
    "    cat_sublist_raw = ast.literal_eval(df.iloc[i,2])\n",
    "    try:\n",
    "        cat_sublist_raw.remove('Books')\n",
    "    except:\n",
    "        pass\n",
    "    cat_sublist = []\n",
    "    for item in cat_sublist_raw:\n",
    "        new_item = item.replace('&amp;', '&')\n",
    "        cat_sublist.append(new_item)\n",
    "    cat_list.append(cat_sublist)"
   ]
  },
  {
   "cell_type": "code",
   "execution_count": 36,
   "metadata": {
    "ExecuteTime": {
     "end_time": "2021-01-17T22:33:59.192683Z",
     "start_time": "2021-01-17T22:33:59.173799Z"
    }
   },
   "outputs": [],
   "source": [
    "unique_cat_list = list(set([item for sublist in cat_list for item in sublist]))"
   ]
  },
  {
   "cell_type": "code",
   "execution_count": 37,
   "metadata": {
    "ExecuteTime": {
     "end_time": "2021-01-17T22:33:59.234101Z",
     "start_time": "2021-01-17T22:33:59.204573Z"
    }
   },
   "outputs": [
    {
     "data": {
      "text/plain": [
       "LabelBinarizer()"
      ]
     },
     "execution_count": 37,
     "metadata": {},
     "output_type": "execute_result"
    }
   ],
   "source": [
    "from sklearn import preprocessing\n",
    "lb = preprocessing.LabelBinarizer()\n",
    "lb.fit(unique_cat_list)"
   ]
  },
  {
   "cell_type": "code",
   "execution_count": 38,
   "metadata": {
    "ExecuteTime": {
     "end_time": "2021-01-17T22:34:05.573181Z",
     "start_time": "2021-01-17T22:33:59.241949Z"
    }
   },
   "outputs": [],
   "source": [
    "cat_list_ohe = []\n",
    "\n",
    "for item in cat_list:\n",
    "    if not item:\n",
    "        ohe_item = np.zeros(shape=len(unique_cat_list), dtype=np.int8)\n",
    "    else:\n",
    "        ohe_item = sum(lb.transform(item))\n",
    "    cat_list_ohe.append(ohe_item)"
   ]
  },
  {
   "cell_type": "markdown",
   "metadata": {},
   "source": [
    "Now that this is done we define the cosine similarity as well as the ratings similarity. These will be used to compute the combinedd similarity."
   ]
  },
  {
   "cell_type": "code",
   "execution_count": 39,
   "metadata": {
    "ExecuteTime": {
     "end_time": "2021-01-17T22:34:05.607471Z",
     "start_time": "2021-01-17T22:34:05.583447Z"
    }
   },
   "outputs": [],
   "source": [
    "def cosine(u,v):\n",
    "    num = np.sum(u * v)\n",
    "    denom = (np.sqrt(np.sum(u))) * (np.sqrt(np.sum(v)))\n",
    "    if not denom:\n",
    "        return 0\n",
    "    else:\n",
    "        res = num/denom\n",
    "    return res"
   ]
  },
  {
   "cell_type": "code",
   "execution_count": 40,
   "metadata": {
    "ExecuteTime": {
     "end_time": "2021-01-17T22:34:05.635638Z",
     "start_time": "2021-01-17T22:34:05.617695Z"
    }
   },
   "outputs": [],
   "source": [
    "def user_average(u):\n",
    "    ratings = ratings_matrix.iloc[u].values\n",
    "    mean = ratings[ratings != 0].mean()\n",
    "    return mean"
   ]
  },
  {
   "cell_type": "code",
   "execution_count": 41,
   "metadata": {
    "ExecuteTime": {
     "end_time": "2021-01-17T22:34:05.679022Z",
     "start_time": "2021-01-17T22:34:05.652195Z"
    }
   },
   "outputs": [],
   "source": [
    "def cosine_similarity(i, j):\n",
    "    list_products = df.loc[:,'productID'].values\n",
    "    idx_i = np.where(list_products==i)[0][0]\n",
    "    idx_j = np.where(list_products==j)[0][0]\n",
    "    vec_i = cat_list_ohe[idx_i]\n",
    "    vec_j = cat_list_ohe[idx_j]\n",
    "    return cosine(vec_i, vec_j)"
   ]
  },
  {
   "cell_type": "code",
   "execution_count": 42,
   "metadata": {
    "ExecuteTime": {
     "end_time": "2021-01-17T22:34:05.754302Z",
     "start_time": "2021-01-17T22:34:05.735116Z"
    }
   },
   "outputs": [],
   "source": [
    "def ratings_similarity(i, j):\n",
    "    product_list_rate = ratings_matrix.index.tolist()\n",
    "    nbr_columns = len(ratings_matrix.columns)\n",
    "    num, denum1, denum2 = 0.0, 0.0, 0.0\n",
    "    if (i in product_list_rate)&(j in product_list_rate):\n",
    "        vect_i = ratings_matrix.loc[i].values\n",
    "        vect_j = ratings_matrix.loc[j].values\n",
    "        for k in range(nbr_columns):\n",
    "            num += (vect_i[k]-user_average(k))*(vect_j[k]-user_average(k))\n",
    "            denum1 += (vect_i[k]-user_average(k))**2\n",
    "            denum2 += (vect_j[k]-user_average(k))**2\n",
    "        coef = num/np.sqrt(denum1*denum2)\n",
    "        return coef\n",
    "    else:\n",
    "        return float('NaN')"
   ]
  },
  {
   "cell_type": "code",
   "execution_count": 43,
   "metadata": {
    "ExecuteTime": {
     "end_time": "2021-01-17T22:34:05.781653Z",
     "start_time": "2021-01-17T22:34:05.769790Z"
    }
   },
   "outputs": [],
   "source": [
    "def combined_similarity(i, j, alpha):\n",
    "    return alpha * cosine_similarity(i,j) + (1-alpha) * ratings_similarity(i,j) "
   ]
  },
  {
   "cell_type": "markdown",
   "metadata": {},
   "source": [
    "Let's test it with $\\alpha = 0.2$"
   ]
  },
  {
   "cell_type": "code",
   "execution_count": 44,
   "metadata": {
    "ExecuteTime": {
     "end_time": "2021-01-17T22:34:06.887532Z",
     "start_time": "2021-01-17T22:34:05.795788Z"
    }
   },
   "outputs": [
    {
     "data": {
      "text/plain": [
       "0.7739204651712647"
      ]
     },
     "execution_count": 44,
     "metadata": {},
     "output_type": "execute_result"
    }
   ],
   "source": [
    "combined_similarity('0007133766','0006159990',0.2)"
   ]
  },
  {
   "cell_type": "markdown",
   "metadata": {},
   "source": [
    "Seems to work like a breeze. We can now proceed and create the function that will generate the predictions. We can tune $\\alpha$ and $k$ the number of neighbors selected in the computation."
   ]
  },
  {
   "cell_type": "code",
   "execution_count": 45,
   "metadata": {
    "ExecuteTime": {
     "end_time": "2021-01-17T22:34:06.930635Z",
     "start_time": "2021-01-17T22:34:06.898025Z"
    }
   },
   "outputs": [],
   "source": [
    "def itemknn_prediction_f(u, i, alpha=0.2, k=5):\n",
    "    also_rated = df[df['reviewerID']==u]['productID'].values\n",
    "    sim = {}\n",
    "    for j in also_rated:\n",
    "        if not combined_similarity(i, j, alpha):\n",
    "            sim[j] = 0\n",
    "        else:\n",
    "            sim[j] = combined_similarity(i, j, alpha)\n",
    "    knn = sorted(sim, key=sim.get, reverse=True)[:k]\n",
    "    num = 0.0\n",
    "    denum = 0.0\n",
    "    for j in knn:\n",
    "        rating_j = int(df[(df['reviewerID']==u)&(df['productID']==j)]['ratingScore'].values)\n",
    "        num += rating_j * combined_similarity(i, j, alpha)\n",
    "        denum += combined_similarity(i, j, alpha)\n",
    "    if denum == 0.0:\n",
    "        result = 0\n",
    "    else:\n",
    "        result = num/denum\n",
    "    return result"
   ]
  },
  {
   "cell_type": "code",
   "execution_count": 46,
   "metadata": {
    "ExecuteTime": {
     "end_time": "2021-01-17T22:34:38.620008Z",
     "start_time": "2021-01-17T22:34:06.943103Z"
    }
   },
   "outputs": [
    {
     "data": {
      "text/plain": [
       "2.7990755437257837"
      ]
     },
     "execution_count": 46,
     "metadata": {},
     "output_type": "execute_result"
    }
   ],
   "source": [
    "itemknn_prediction_f('A5S98AEI9WI7Y','0006512461')"
   ]
  },
  {
   "cell_type": "markdown",
   "metadata": {},
   "source": [
    "Works perfectly as well. Now let's use it on some test data."
   ]
  },
  {
   "cell_type": "code",
   "execution_count": null,
   "metadata": {
    "ExecuteTime": {
     "start_time": "2021-01-17T22:31:38.360Z"
    }
   },
   "outputs": [],
   "source": [
    "c = 10\n",
    "\n",
    "y_pred = []\n",
    "X_test , y_test = get_test_data()\n",
    "\n",
    "for index, row in X_test[:c].iterrows():\n",
    "    y_pred.append(itemknn_prediction_f(row[0],row[1]))"
   ]
  },
  {
   "cell_type": "code",
   "execution_count": null,
   "metadata": {
    "ExecuteTime": {
     "start_time": "2021-01-17T22:31:38.365Z"
    }
   },
   "outputs": [],
   "source": [
    "rmse_f(y_test[:c],y_pred)"
   ]
  },
  {
   "cell_type": "markdown",
   "metadata": {},
   "source": [
    "RMSE is not bad and is actually lower than the one we had on the SVD model. Of course we should tune the parameters and do some cross validation but that's not bad at all."
   ]
  },
  {
   "cell_type": "markdown",
   "metadata": {
    "id": "yKdQfcE_8_fi"
   },
   "source": [
    "# Testing the submission locally\n",
    "\n",
    "Once you have come up with a good model, we advise to test it locally. Do to so, the package ramp_workflow needs to be installed. The package is in the list of requirements.txt and can be installed by the following command if it is not already installed.\n",
    "\n",
    "```\n",
    "python -m pip install https://api.github.com/repos/paris-saclay-cds/ramp-workflow/zipball/master\n",
    "```\n",
    "\n",
    "Your code should be written in a python file that you name estimator.py. It has to countain a function name get_estimator that returns an object of type scikit-learn like that solves the problem. <br>\n",
    "This file should be found in a folder called anyway you want, itself found in the **submission/** folder.\n",
    "As a example, you can find the SVD model of this notbook in the path submission\\SVD\\estimator.py. <br>\n",
    "<br>\n",
    "\n",
    "Your code can be tested on the data set with the folowing command :\n",
    "```\n",
    "ramp-test --submission <your submission folder name>\n",
    "```\n",
    "A Ramp-workflow option is also implemented in the problem that allow you to run your code on a smaller set of the data. This allow you to test quicker your code on a subset. The command to run your code with the quick-mode is the following : \n",
    "```\n",
    "ramp-test --submission <your submission folder name> --quick-test\n",
    "```\n",
    "\n",
    "For example, to run the SVD model on quick mode, you can run the following line :\n",
    "\n",
    "\n",
    "\n",
    "\n"
   ]
  },
  {
   "cell_type": "code",
   "execution_count": null,
   "metadata": {
    "ExecuteTime": {
     "end_time": "2021-01-17T12:27:07.754318Z",
     "start_time": "2021-01-17T12:27:05.186861Z"
    },
    "id": "pJ_shz6cauyq"
   },
   "outputs": [],
   "source": [
    "! ramp-test --submission starting_kit --quick-test"
   ]
  },
  {
   "cell_type": "markdown",
   "metadata": {
    "id": "JEuIGGWYZzhQ"
   },
   "source": [
    "# More information\n",
    "For more information on how to submit your code on [ramp.studio](https://ramp.studio/), refer to the [online documentation](https://paris-saclay-cds.github.io/ramp-docs/ramp-workflow/stable/using_kits.html).\n",
    "You can also read the READ.ME file"
   ]
  }
 ],
 "metadata": {
  "colab": {
   "collapsed_sections": [
    "SZ8HSjV68nI3",
    "B_XYg78lwdoM",
    "P5XxC1WypSJ0",
    "t1cyskut8rbN",
    "dlcQvKNm8uku",
    "yKdQfcE_8_fi"
   ],
   "name": "Data Camp Project.ipynb",
   "provenance": []
  },
  "kernelspec": {
   "display_name": "Python 3",
   "language": "python",
   "name": "python3"
  },
  "language_info": {
   "codemirror_mode": {
    "name": "ipython",
    "version": 3
   },
   "file_extension": ".py",
   "mimetype": "text/x-python",
   "name": "python",
   "nbconvert_exporter": "python",
   "pygments_lexer": "ipython3",
   "version": "3.6.10"
  },
  "toc": {
   "base_numbering": 1,
   "nav_menu": {},
   "number_sections": true,
   "sideBar": true,
   "skip_h1_title": false,
   "title_cell": "Table of Contents",
   "title_sidebar": "Contents",
   "toc_cell": false,
   "toc_position": {},
   "toc_section_display": true,
   "toc_window_display": false
  }
 },
 "nbformat": 4,
 "nbformat_minor": 1
}
